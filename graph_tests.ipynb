{
 "cells": [
  {
   "cell_type": "code",
   "execution_count": 1,
   "metadata": {
    "ExecuteTime": {
     "end_time": "2020-11-25T13:40:16.313262Z",
     "start_time": "2020-11-25T13:40:16.171224Z"
    }
   },
   "outputs": [],
   "source": [
    "import cv2\n",
    "import numpy as np\n",
    "import time"
   ]
  },
  {
   "cell_type": "code",
   "execution_count": 2,
   "metadata": {
    "ExecuteTime": {
     "end_time": "2020-11-25T13:40:16.712682Z",
     "start_time": "2020-11-25T13:40:16.706685Z"
    }
   },
   "outputs": [],
   "source": [
    "total = [3, 2, 2, 4, 2, 1, 3, 1, 1, 2, 1, 3, 4, 5, 2, 3, 1, 0, 2, 3]\n",
    "v =     [1, 2, 0, 2, 1, 1, 2, 0, 1, 1, 0, 2, 1, 2, 1, 0, 1, 0, 2, 1]\n",
    "n =     [2, 0, 2, 2, 1, 0, 1, 1, 0, 1, 1, 1, 3, 3, 1, 3, 0, 0, 0, 2]"
   ]
  },
  {
   "cell_type": "code",
   "execution_count": 57,
   "metadata": {
    "ExecuteTime": {
     "end_time": "2020-11-25T14:22:19.963982Z",
     "start_time": "2020-11-25T14:22:19.947967Z"
    }
   },
   "outputs": [],
   "source": [
    "v_m =   [3, 1, 2, 1, 2, 0, 2, 0, 1, 0, 0, 1, 2, 2, 0, 2, 1, 0, 1, 2]\n",
    "n_m =   [0, 1, 0, 3, 0, 1, 1, 1, 0, 2, 1, 2, 2, 3, 2, 1, 0, 0, 1, 1]"
   ]
  },
  {
   "cell_type": "code",
   "execution_count": 3,
   "metadata": {
    "ExecuteTime": {
     "end_time": "2020-11-25T13:40:19.240321Z",
     "start_time": "2020-11-25T13:40:19.235327Z"
    }
   },
   "outputs": [],
   "source": [
    "back = np.zeros((150, 1067, 3), np.uint8)\n",
    "back[:] = (255, 255, 255)"
   ]
  },
  {
   "cell_type": "code",
   "execution_count": 4,
   "metadata": {
    "ExecuteTime": {
     "end_time": "2020-11-25T13:40:19.464516Z",
     "start_time": "2020-11-25T13:40:19.458518Z"
    }
   },
   "outputs": [],
   "source": [
    "color = (0, 0, 0)\n",
    "thickness = 2"
   ]
  },
  {
   "cell_type": "code",
   "execution_count": 5,
   "metadata": {
    "ExecuteTime": {
     "end_time": "2020-11-25T13:40:19.640635Z",
     "start_time": "2020-11-25T13:40:19.629620Z"
    }
   },
   "outputs": [],
   "source": [
    "# axis\n",
    "back = cv2.line(back, (40, 110), (40, 30), color, thickness) \n",
    "back = cv2.line(back, (40, 110), (240, 110), color, thickness) \n",
    "\n",
    "# markings\n",
    "# y-axis\n",
    "for i in range(16, 81, 16):\n",
    "    back = cv2.line(back, (40, 110-i), (35, 110-i), color, thickness) \n",
    "    \n",
    "# x-axis\n",
    "for i in range(10, 201, 10):\n",
    "    back = cv2.line(back, (40+i, 110), (40+i, 115), color, thickness) "
   ]
  },
  {
   "cell_type": "code",
   "execution_count": 7,
   "metadata": {
    "ExecuteTime": {
     "end_time": "2020-11-17T13:40:21.976453Z",
     "start_time": "2020-11-17T13:38:26.740855Z"
    }
   },
   "outputs": [],
   "source": [
    "video_step = 0\n",
    "for i in range(len(total)-1):\n",
    "    # start pts\n",
    "    start_pt_total = (40+video_step, 110-16*total[i])\n",
    "    start_pt_v = (40+video_step, 110-16*v[i])\n",
    "    start_pt_n = (40+video_step, 110-16*n[i])\n",
    "    \n",
    "    video_step = video_step + 10\n",
    "    \n",
    "    # end pts\n",
    "    end_pt_total = (40+video_step, 110-16*total[i+1])\n",
    "    end_pt_v = (40+video_step, 110-16*v[i+1])\n",
    "    end_pt_n = (40+video_step, 110-16*n[i+1])\n",
    "    \n",
    "    back = cv2.line(back, start_pt_total, end_pt_total, (255, 0, 0), 1)\n",
    "    back = cv2.line(back, start_pt_v, end_pt_v, (0, 0, 255), 1)\n",
    "    back = cv2.line(back, start_pt_n, end_pt_n, (0, 255, 0), 1)\n",
    "    cv2.imshow(\"graph\", back)\n",
    "    #time.sleep(100)\n",
    "    cv2.waitKey(5000)\n",
    "    \n",
    "\n",
    "cv2.waitKey(20000)\n",
    "cv2.destroyWindow(\"graph\")"
   ]
  },
  {
   "cell_type": "code",
   "execution_count": null,
   "metadata": {
    "ExecuteTime": {
     "end_time": "2020-11-17T13:17:38.346585Z",
     "start_time": "2020-11-17T13:17:18.296461Z"
    }
   },
   "outputs": [],
   "source": []
  },
  {
   "cell_type": "code",
   "execution_count": 45,
   "metadata": {
    "ExecuteTime": {
     "end_time": "2020-11-25T13:58:31.928731Z",
     "start_time": "2020-11-25T13:58:31.906728Z"
    }
   },
   "outputs": [],
   "source": [
    "def draw_axis(bar, title, title_x, title_y, xpad = 80, ypad = 220, x_axis_pt = 410, y_axis_pt = 80, divisions = 10, diff = 30, x_axis_label = \"Number of people\"):\n",
    "    \n",
    "    \n",
    "    color = (0, 0, 0)\n",
    "    thickness = 1\n",
    "    # font \n",
    "    font = cv2.FONT_HERSHEY_SIMPLEX \n",
    "    # fontScale \n",
    "    fontScale = 0.40\n",
    "    \n",
    "    bar = cv2.rectangle(bar, (xpad-20, y_axis_pt-20), (x_axis_pt+20, ypad+60), (0, 0, 0), 2)\n",
    "    bar = cv2.putText(bar, title, (title_x, title_y), font, 0.7, (0, 0, 0), 1, cv2.LINE_AA)\n",
    "    \n",
    "    # axis\n",
    "    bar = cv2.line(bar, (xpad, ypad), (xpad, y_axis_pt), color, thickness) \n",
    "    bar = cv2.line(bar, (xpad, ypad), (x_axis_pt, ypad), color, thickness) \n",
    "\n",
    "    # label\n",
    "    bar = cv2.putText(bar, x_axis_label, (xpad+94, ypad+46), font, 0.5, (0, 0, 0), 1, cv2.LINE_AA)\n",
    "    \n",
    "    # x-axis markings\n",
    "    for i in range(diff, divisions*diff+1, diff):\n",
    "        bar = cv2.line(bar, (xpad+1+i, ypad), (xpad+1+i, ypad+8), color, thickness) \n",
    "        bar = cv2.putText(bar, str(i//diff), (xpad+1+i-4, ypad+24), font, fontScale, (0, 0, 0), 1, cv2.LINE_AA)\n",
    "        \n",
    "    return bar"
   ]
  },
  {
   "cell_type": "code",
   "execution_count": 85,
   "metadata": {
    "ExecuteTime": {
     "end_time": "2020-11-25T14:45:09.994052Z",
     "start_time": "2020-11-25T14:45:09.968045Z"
    }
   },
   "outputs": [],
   "source": [
    "def draw_legend(bar, x1, y1, x2, y2):\n",
    "    \n",
    "    # font \n",
    "    font = cv2.FONT_HERSHEY_SIMPLEX \n",
    "    \n",
    "    bar = cv2.rectangle(bar, (x1, y1), (x2, y2), (0, 0, 0), 2)\n",
    "    \n",
    "    # height and gap\n",
    "    height = 40\n",
    "    gap = 10\n",
    "    \n",
    "    side_pad = 30\n",
    "    \n",
    "    start_1 = (x1+side_pad, y1+gap)\n",
    "    start_2 = (x1+side_pad, start_1[1]+height+gap)\n",
    "    start_3 = (x1+side_pad, start_2[1]+height+gap)\n",
    "    \n",
    "    end_1 = (x1+side_pad+40, start_1[1]+height)\n",
    "    end_2 = (x1+side_pad+40, start_2[1]+height)\n",
    "    end_3 = (x1+side_pad+40, start_3[1]+height)\n",
    "    \n",
    "    bar = cv2.rectangle(bar, start_1, end_1, (255, 0, 0), -1)\n",
    "    bar = cv2.putText(bar, 'Total People', (end_1[0]+30, end_1[1]-12), font, 0.8, (0, 0, 0), 1, cv2.LINE_AA)\n",
    "    \n",
    "    bar = cv2.rectangle(bar, start_2, end_2, (0, 0, 255), -1)\n",
    "    bar = cv2.putText(bar, 'Violators', (end_2[0]+30, end_2[1]-12), font, 0.8, (0, 0, 0), 1, cv2.LINE_AA)\n",
    "    \n",
    "    bar = cv2.rectangle(bar, start_3, end_3, (0, 255, 0), -1)\n",
    "    bar = cv2.putText(bar, 'Non-violators', (end_3[0]+30, end_3[1]-12), font, 0.8, (0, 0, 0), 1, cv2.LINE_AA)\n",
    "    \n",
    "    return bar"
   ]
  },
  {
   "cell_type": "code",
   "execution_count": 86,
   "metadata": {
    "ExecuteTime": {
     "end_time": "2020-11-25T14:45:25.852808Z",
     "start_time": "2020-11-25T14:45:10.790767Z"
    }
   },
   "outputs": [],
   "source": [
    "bar = np.zeros((300, 1467, 3), np.uint8)\n",
    "bar[:] = (255, 255, 255)\n",
    "# font \n",
    "font = cv2.FONT_HERSHEY_SIMPLEX \n",
    "# fontScale \n",
    "fontScale = 0.45\n",
    "    \n",
    "bar = cv2.rectangle(bar, (670, 0), (797, 40), (150, 0, 0), -1)\n",
    "bar = cv2.putText(bar, 'STATS', (689, 30), font, 1, (255, 255, 255), 2, cv2.LINE_AA)\n",
    "bar = draw_axis(bar, title=\"Social Distancing\", title_x = 150, title_y = 47)\n",
    "bar = draw_axis(bar, title=\"Mask Detection\", title_x=1132, title_y = 47, xpad = 1047, ypad = 220, x_axis_pt = 1377, y_axis_pt = 80, divisions = 10, diff = 30, x_axis_label = \"Number of people\")\n",
    "bar = draw_legend(bar, x1=580, y1=100, x2=886, y2=260)\n",
    "\n",
    "cv2.imshow(\"bar\", bar)\n",
    "cv2.waitKey(15000)\n",
    "cv2.destroyWindow(\"bar\")\n",
    "    "
   ]
  },
  {
   "cell_type": "code",
   "execution_count": 87,
   "metadata": {
    "ExecuteTime": {
     "end_time": "2020-11-25T14:45:52.676054Z",
     "start_time": "2020-11-25T14:45:35.945593Z"
    }
   },
   "outputs": [],
   "source": [
    "for i in range(len(total)-1):\n",
    "    bar = np.zeros((300, 1467, 3), np.uint8)\n",
    "    bar[:] = (255, 255, 255)\n",
    "    # font \n",
    "    font = cv2.FONT_HERSHEY_SIMPLEX \n",
    "    # fontScale \n",
    "    fontScale = 0.9\n",
    "    \n",
    "    bar_width = 40\n",
    "    bar_gap = 5\n",
    "    \n",
    "    bar = cv2.rectangle(bar, (670, 0), (797, 40), (150, 0, 0), -1)\n",
    "    bar = cv2.putText(bar, 'STATS', (689, 30), font, 1, (255, 255, 255), 2, cv2.LINE_AA)\n",
    "    \n",
    "    ## social distancing\n",
    "    y_axis_pt = 80\n",
    "    diff = 30\n",
    "    x_pad = 81\n",
    "    \n",
    "    start_tot = (x_pad, y_axis_pt + bar_gap)\n",
    "    start_v = (x_pad, start_tot[1] + bar_width + bar_gap)\n",
    "    start_n = (x_pad, start_v[1] + bar_width + bar_gap)\n",
    "    \n",
    "    end_tot = (x_pad + diff * total[i], y_axis_pt + bar_gap + bar_width)\n",
    "    end_v = (x_pad + diff * v[i], end_tot[1] + bar_width + bar_gap)\n",
    "    end_n = (x_pad + diff * n[i], end_v[1] + bar_width + bar_gap)\n",
    "    \n",
    "    #total\n",
    "    bar = cv2.rectangle(bar, start_tot, end_tot, (255, 0, 0), -1)\n",
    "    bar = cv2.putText(bar, str(total[i]), (end_tot[0] + 10, end_tot[1] - 10), font, fontScale, (255, 0, 0), 2)\n",
    "    \n",
    "    #violators\n",
    "    bar = cv2.rectangle(bar, start_v, end_v, (0, 0, 255), -1)\n",
    "    bar = cv2.putText(bar, str(v[i]), (end_v[0] + 10, end_v[1] - 10), font, fontScale, (0, 0, 255), 2)\n",
    "    \n",
    "    #non-violators\n",
    "    bar = cv2.rectangle(bar, start_n, end_n, (0, 255, 0), -1)\n",
    "    bar = cv2.putText(bar, str(n[i]), (end_n[0] + 10, end_n[1] - 10), font, fontScale, (0, 255, 0), 2)\n",
    "    \n",
    "    \n",
    "    bar = draw_axis(bar, title=\"Social Distancing\", title_x=155, title_y=47)\n",
    "    \n",
    "    ## mask\n",
    "    y_axis_pt = 80\n",
    "    diff = 30\n",
    "    x_pad = 1048\n",
    "    \n",
    "    start_tot = (x_pad, y_axis_pt + bar_gap)\n",
    "    start_v = (x_pad, start_tot[1] + bar_width + bar_gap)\n",
    "    start_n = (x_pad, start_v[1] + bar_width + bar_gap)\n",
    "    \n",
    "    end_tot = (x_pad + diff * total[i], y_axis_pt + bar_gap + bar_width)\n",
    "    end_v = (x_pad + diff * v_m[i], end_tot[1] + bar_width + bar_gap)\n",
    "    end_n = (x_pad + diff * n_m[i], end_v[1] + bar_width + bar_gap)\n",
    "    \n",
    "    #total\n",
    "    bar = cv2.rectangle(bar, start_tot, end_tot, (255, 0, 0), -1)\n",
    "    bar = cv2.putText(bar, str(total[i]), (end_tot[0] + 10, end_tot[1] - 10), font, fontScale, (255, 0, 0), 2)\n",
    "    \n",
    "    #violators\n",
    "    bar = cv2.rectangle(bar, start_v, end_v, (0, 0, 255), -1)\n",
    "    bar = cv2.putText(bar, str(v_m[i]), (end_v[0] + 10, end_v[1] - 10), font, fontScale, (0, 0, 255), 2)\n",
    "    \n",
    "    #non-violators\n",
    "    bar = cv2.rectangle(bar, start_n, end_n, (0, 255, 0), -1)\n",
    "    bar = cv2.putText(bar, str(n_m[i]), (end_n[0] + 10, end_n[1] - 10), font, fontScale, (0, 255, 0), 2)\n",
    "    \n",
    "    bar = draw_axis(bar, title=\"Mask Detection\", title_x=1132, title_y = 47, xpad = 1047, ypad = 220, x_axis_pt = 1377, y_axis_pt = 80, divisions = 10, diff = 30, x_axis_label = \"Number of people\")\n",
    "    \n",
    "    bar = draw_legend(bar, x1=580, y1=100, x2=886, y2=260)\n",
    "    \n",
    "    cv2.imshow(\"bar\", bar)\n",
    "    cv2.waitKey(600)\n",
    "    \n",
    "\n",
    "cv2.waitKey(5000)\n",
    "cv2.destroyWindow(\"bar\")\n",
    "    "
   ]
  },
  {
   "cell_type": "code",
   "execution_count": null,
   "metadata": {},
   "outputs": [],
   "source": []
  }
 ],
 "metadata": {
  "kernelspec": {
   "display_name": "Python 3",
   "language": "python",
   "name": "python3"
  },
  "language_info": {
   "codemirror_mode": {
    "name": "ipython",
    "version": 3
   },
   "file_extension": ".py",
   "mimetype": "text/x-python",
   "name": "python",
   "nbconvert_exporter": "python",
   "pygments_lexer": "ipython3",
   "version": "3.5.6"
  }
 },
 "nbformat": 4,
 "nbformat_minor": 4
}
