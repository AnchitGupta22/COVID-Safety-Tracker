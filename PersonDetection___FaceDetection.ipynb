{
 "cells": [
  {
   "cell_type": "code",
   "execution_count": 1,
   "metadata": {
    "ExecuteTime": {
     "end_time": "2020-10-21T15:53:55.598143Z",
     "start_time": "2020-10-21T15:53:53.090579Z"
    }
   },
   "outputs": [
    {
     "name": "stderr",
     "output_type": "stream",
     "text": [
      "Using TensorFlow backend.\n"
     ]
    }
   ],
   "source": [
    "import cv2\n",
    "import numpy as np \n",
    "import time\n",
    "from utils import *\n",
    "\n",
    "from keras.models import Model\n",
    "from numpy import array\n",
    "from keras.models import load_model\n",
    "import PIL\n",
    "import Utils_SRGAN, Utils_model_SRGAN\n",
    "from Utils_model_SRGAN import VGG_LOSS"
   ]
  },
  {
   "cell_type": "markdown",
   "metadata": {},
   "source": [
    "## SRGAN"
   ]
  },
  {
   "cell_type": "code",
   "execution_count": 2,
   "metadata": {
    "ExecuteTime": {
     "end_time": "2020-10-21T15:53:55.604144Z",
     "start_time": "2020-10-21T15:53:55.599145Z"
    }
   },
   "outputs": [],
   "source": [
    "def load_VGG_SRGAN():\n",
    "    model_dir = './model-weights/gen_model3000.h5'\n",
    "    image_shape = (96, 96, 3)\n",
    "    \n",
    "    loss = VGG_LOSS(image_shape=image_shape)  \n",
    "    model = load_model(model_dir , custom_objects={'vgg_loss': loss.vgg_loss})\n",
    "    \n",
    "    return model\n",
    "\n",
    "def test_model_for_lr_images(input_low_res, model):\n",
    "\n",
    "    x_test_lr = Utils_SRGAN.LOAD_DATA_TEST(input_low_res)\n",
    "    output_high_res = Utils_SRGAN.plot_test_generated_images(model, x_test_lr)\n",
    "    return output_high_res"
   ]
  },
  {
   "cell_type": "markdown",
   "metadata": {},
   "source": [
    "## Functions used to detect faces in an image\n",
    "**- load_yolo_face** loads the config and weight files for Yolo-v3 trained for Face Detection\n",
    "\n",
    "**- face_detection** detects faces and stores them in 'image_data/'"
   ]
  },
  {
   "cell_type": "code",
   "execution_count": 3,
   "metadata": {
    "ExecuteTime": {
     "end_time": "2020-10-21T15:53:55.622149Z",
     "start_time": "2020-10-21T15:53:55.605147Z"
    }
   },
   "outputs": [],
   "source": [
    "def load_yolo_face():\n",
    "    \n",
    "    model_cfg = './cfg/yolov3-face.cfg'\n",
    "    model_weights = './model-weights/yolov3-wider_16000.weights'\n",
    "    \n",
    "    net = cv2.dnn.readNetFromDarknet(model_cfg, model_weights)\n",
    "    net.setPreferableBackend(cv2.dnn.DNN_BACKEND_OPENCV)\n",
    "    net.setPreferableTarget(cv2.dnn.DNN_TARGET_CPU)\n",
    "    \n",
    "    return net\n",
    "\n",
    "def face_detection(net, frame, current_frame, current_person, model_vgg):\n",
    "\n",
    "        # Create a 4D blob from a frame.\n",
    "        blob = cv2.dnn.blobFromImage(frame, 1 / 255, (IMG_WIDTH, IMG_HEIGHT), [0, 0, 0], 1, crop=False)\n",
    "\n",
    "        # Sets the input to the network\n",
    "        net.setInput(blob)\n",
    "\n",
    "        # Runs the forward pass to get output of the output layers\n",
    "        outs = net.forward(get_outputs_names(net))\n",
    "\n",
    "        # Remove the bounding boxes with low confidence\n",
    "        faces = post_process(frame, outs, CONF_THRESHOLD, NMS_THRESHOLD)\n",
    "        print('[i] ==> # detected faces: {}'.format(len(faces)))\n",
    "        print('#' * 60)\n",
    "\n",
    "        # initialize the set of information we'll displaying on the frame\n",
    "        info = [\n",
    "            ('number of faces detected', '{}'.format(len(faces)))\n",
    "        ]\n",
    "        \n",
    "        # to crop out multiple faces in the image\n",
    "        for f in faces:\n",
    "            x, y, w, h = f\n",
    "\n",
    "            sub_face = frame[y+2:y+h-2, x+2:x+w-2]\n",
    "            final_img = test_model_for_lr_images(sub_face, model_vgg)\n",
    "            #Saves image of the current frame in jpg file\n",
    "            name='./image_data/frame'+str(current_frame) + '_p'+str(current_person)+'.jpg'\n",
    "            print('Creating...'+name)\n",
    "            cv2.imwrite(name,final_img)\n",
    "            #To prevent duplicate images\n",
    "            current_person+=1"
   ]
  },
  {
   "cell_type": "markdown",
   "metadata": {},
   "source": [
    "## Functions used to detect objects in an image\n",
    "**- load_yolo** is used to load the config and weight files used to detect objects using COCO dataset\n",
    "\n",
    "**- start_webcam** is used to start the webcam using OpenCV\n",
    "\n",
    "**- detect_objects** is used to detect different objects inn an image\n",
    "\n",
    "**- get_box_dimensions** is used bounding box, scores and class of the detected object\n",
    "\n",
    "**- draw_labels** is used to draw labels above the bounding box of the detected object\n",
    "\n",
    "**- webcam_detect** is used to call all the above functions to perform the whole process"
   ]
  },
  {
   "cell_type": "code",
   "execution_count": 12,
   "metadata": {
    "ExecuteTime": {
     "end_time": "2020-10-21T16:06:42.475562Z",
     "start_time": "2020-10-21T16:06:42.295522Z"
    }
   },
   "outputs": [],
   "source": [
    "#Load yolo\n",
    "def load_yolo():\n",
    "    net = cv2.dnn.readNet(\"model-weights/yolov3.weights\", \"cfg/yolov3.cfg\")\n",
    "    classes = []\n",
    "    with open(\"cfg/coco.names\", \"r\") as f:\n",
    "        classes = [line.strip() for line in f.readlines()]\n",
    "\n",
    "    layers_names = net.getLayerNames()\n",
    "    output_layers = [layers_names[i[0]-1] for i in net.getUnconnectedOutLayers()]\n",
    "    colors = np.random.uniform(0, 255, size=(len(classes), 3))\n",
    "    return net, classes, colors, output_layers\n",
    "\n",
    "\n",
    "def start_webcam():\n",
    "    cap = cv2.VideoCapture(0)\n",
    "\n",
    "    return cap\n",
    "\n",
    "\n",
    "def detect_objects(img, net, outputLayers):\n",
    "    blob = cv2.dnn.blobFromImage(img, scalefactor=0.00392, size=(320, 320), mean=(0, 0, 0), swapRB=True, crop=False)\n",
    "    net.setInput(blob)\n",
    "    outputs = net.forward(outputLayers)\n",
    "    return blob, outputs\n",
    "\n",
    "def get_box_dimensions(outputs, height, width):\n",
    "    boxes = []\n",
    "    confs = []\n",
    "    class_ids = []\n",
    "    for output in outputs:\n",
    "        for detect in output:\n",
    "            scores = detect[5:]\n",
    "            class_id = np.argmax(scores)\n",
    "            conf = scores[class_id]\n",
    "            if conf > 0.3:\n",
    "                center_x = int(detect[0] * width)\n",
    "                center_y = int(detect[1] * height)\n",
    "                w = int(detect[2] * width)\n",
    "                h = int(detect[3] * height)\n",
    "                x = int(center_x - w/2)\n",
    "                y = int(center_y - h / 2)\n",
    "                boxes.append([x, y, w, h])\n",
    "                confs.append(float(conf))\n",
    "                class_ids.append(class_id)\n",
    "    return boxes, confs, class_ids\n",
    "\n",
    "\n",
    "def draw_labels(boxes, confs, colors, class_ids, classes, img, current_frame, net, model_vgg): \n",
    "    indexes = cv2.dnn.NMSBoxes(boxes, confs, 0.5, 0.4)\n",
    "    font = cv2.FONT_HERSHEY_PLAIN\n",
    "\n",
    "    current_person = 0\n",
    "    for i in range(len(boxes)):\n",
    "        if i in indexes:\n",
    "            x, y, w, h = boxes[i]\n",
    "            label = str(classes[class_ids[i]])\n",
    "            if label == 'person':\n",
    "                color = colors[i]\n",
    "                sub_person = img[y+1:y+h-1, x+1:x+w-1]\n",
    "                cv2.rectangle(img, (x,y), (x+w, y+h), color, 2)\n",
    "                cv2.putText(img, label, (x, y - 5), font, 1, color, 1)\n",
    "                #face_detection(net, sub_person, current_frame, current_person, model_vgg)\n",
    "                current_person+=1\n",
    "                \n",
    "    cv2.imshow(\"Image\", img)\n",
    "\n",
    "\n",
    "def webcam_detect():\n",
    "    model, classes, colors, output_layers = load_yolo()\n",
    "    cap = start_webcam()\n",
    "    current_frame = 0\n",
    "    net = load_yolo_face()\n",
    "    model_vgg = load_VGG_SRGAN()\n",
    "    while True:\n",
    "        _, frame = cap.read()\n",
    "        height, width, channels = frame.shape\n",
    "        blob, outputs = detect_objects(frame, model, output_layers)\n",
    "        boxes, confs, class_ids = get_box_dimensions(outputs, height, width)\n",
    "        draw_labels(boxes, confs, colors, class_ids, classes, frame, current_frame, net, model_vgg)\n",
    "        current_frame += 1\n",
    "        key = cv2.waitKey(1)\n",
    "        if key == 27 or key == ord('q'):\n",
    "            break\n",
    "    cap.release()\n",
    "    cv2.destroyAllWindows()\n",
    "    \n",
    "\n",
    "def draw_labels_video(boxes, confs, colors, class_ids, classes, img, current_frame, net, model_vgg): \n",
    "    indexes = cv2.dnn.NMSBoxes(boxes, confs, 0.5, 0.4)\n",
    "    font = cv2.FONT_HERSHEY_PLAIN\n",
    "\n",
    "    current_person = 0\n",
    "    for i in range(len(boxes)):\n",
    "        if i in indexes:\n",
    "            x, y, w, h = boxes[i]\n",
    "            label = str(classes[class_ids[i]])\n",
    "            if label == 'person':\n",
    "                color = colors[i]\n",
    "                sub_person = img[y+1:y+h-1, x+1:x+w-1]\n",
    "                #face_detection(net, sub_person, current_frame, current_person, model_vgg)\n",
    "                text = label\n",
    "                cv2.rectangle(img, (x,y), (x+w, y+h), color, 2)\n",
    "                cv2.putText(img, text, (x, y - 5), font, 1, color, 1)\n",
    "                current_person+=1\n",
    "                \n",
    "    cv2.imshow(\"Video\", img)                \n",
    "    return img\n",
    "\n",
    "\n",
    "def start_video(video_path):\n",
    "    model, classes, colors, output_layers = load_yolo()\n",
    "    print(\"YOLO-v3 for Person Detection loaded\")\n",
    "    print(\"------------------------------------------------\")\n",
    "    net = load_yolo_face()\n",
    "    print(\"YOLO-v3 for Face Detection loaded\")\n",
    "    print(\"------------------------------------------------\")\n",
    "    \n",
    "    \"\"\"\n",
    "    K.set_image_data_format('channels_first')\n",
    "    FRmodel = load_face_recog_model()\n",
    "    print(\"Face Recognition Model loaded\")\n",
    "    print(\"------------------------------------------------\")\n",
    "    database = load_database(FRmodel)\n",
    "    print(\"User Database loaded\")\n",
    "    print(\"------------------------------------------------\")\n",
    "    K.set_image_data_format('channels_last')\n",
    "    \"\"\"\n",
    "    \n",
    "    model_vgg = load_VGG_SRGAN()\n",
    "    print(\"SRGAN loaded\")\n",
    "    print(\"------------------------------------------------\")\n",
    "\n",
    "    cap = cv2.VideoCapture(video_path)\n",
    "    current_frame = 0\n",
    "    sz = (int(cap.get(cv2.CAP_PROP_FRAME_WIDTH)), int(cap.get(cv2.CAP_PROP_FRAME_HEIGHT)))\n",
    "    out = cv2.VideoWriter('output.mp4',cv2.VideoWriter_fourcc('M','J','P','G'), 20, sz)\n",
    "    while cap.isOpened():\n",
    "        ret, frame = cap.read()\n",
    "        if ret == True:\n",
    "            height, width, channels = frame.shape\n",
    "            blob, outputs = detect_objects(frame, model, output_layers)\n",
    "            boxes, confs, class_ids = get_box_dimensions(outputs, height, width)\n",
    "            image = draw_labels_video(boxes, confs, colors, class_ids, classes, frame, current_frame, net, model_vgg)\n",
    "            current_frame += 1        \n",
    "        \n",
    "            out.write(image)\n",
    "        \n",
    "            key = cv2.waitKey(9)\n",
    "            if key == 27 or key == ord('q'):\n",
    "                break\n",
    "        else:\n",
    "            print(\"**------- END OF VIDEO FILE -------**\")\n",
    "            break\n",
    "            \n",
    "    cap.release()\n",
    "    cv2.destroyAllWindows()\n"
   ]
  },
  {
   "cell_type": "markdown",
   "metadata": {},
   "source": [
    "## Execution"
   ]
  },
  {
   "cell_type": "code",
   "execution_count": 13,
   "metadata": {
    "ExecuteTime": {
     "end_time": "2020-10-21T16:07:18.901136Z",
     "start_time": "2020-10-21T16:06:43.447166Z"
    }
   },
   "outputs": [
    {
     "name": "stdout",
     "output_type": "stream",
     "text": [
      "YOLO-v3 for Person Detection loaded\n",
      "------------------------------------------------\n",
      "YOLO-v3 for Face Detection loaded\n",
      "------------------------------------------------\n",
      "SRGAN loaded\n",
      "------------------------------------------------\n"
     ]
    }
   ],
   "source": [
    "start_video('test_video.mp4')"
   ]
  },
  {
   "cell_type": "code",
   "execution_count": null,
   "metadata": {},
   "outputs": [],
   "source": []
  }
 ],
 "metadata": {
  "hide_input": false,
  "kernelspec": {
   "display_name": "Python 3",
   "language": "python",
   "name": "python3"
  },
  "language_info": {
   "codemirror_mode": {
    "name": "ipython",
    "version": 3
   },
   "file_extension": ".py",
   "mimetype": "text/x-python",
   "name": "python",
   "nbconvert_exporter": "python",
   "pygments_lexer": "ipython3",
   "version": "3.5.6"
  },
  "toc": {
   "base_numbering": 1,
   "nav_menu": {},
   "number_sections": true,
   "sideBar": true,
   "skip_h1_title": false,
   "title_cell": "Table of Contents",
   "title_sidebar": "Contents",
   "toc_cell": false,
   "toc_position": {},
   "toc_section_display": true,
   "toc_window_display": false
  },
  "varInspector": {
   "cols": {
    "lenName": 16,
    "lenType": 16,
    "lenVar": 40
   },
   "kernels_config": {
    "python": {
     "delete_cmd_postfix": "",
     "delete_cmd_prefix": "del ",
     "library": "var_list.py",
     "varRefreshCmd": "print(var_dic_list())"
    },
    "r": {
     "delete_cmd_postfix": ") ",
     "delete_cmd_prefix": "rm(",
     "library": "var_list.r",
     "varRefreshCmd": "cat(var_dic_list()) "
    }
   },
   "types_to_exclude": [
    "module",
    "function",
    "builtin_function_or_method",
    "instance",
    "_Feature"
   ],
   "window_display": false
  }
 },
 "nbformat": 4,
 "nbformat_minor": 4
}
