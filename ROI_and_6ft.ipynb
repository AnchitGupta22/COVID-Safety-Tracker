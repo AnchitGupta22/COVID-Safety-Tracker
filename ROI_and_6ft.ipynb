{
 "cells": [
  {
   "cell_type": "code",
   "execution_count": null,
   "metadata": {
    "ExecuteTime": {
     "end_time": "2020-10-28T14:19:48.306277Z",
     "start_time": "2020-10-28T14:19:48.216256Z"
    }
   },
   "outputs": [],
   "source": [
    "import cv2\n",
    "import numpy as np"
   ]
  },
  {
   "cell_type": "markdown",
   "metadata": {},
   "source": [
    "## function to draw ROI and distance for threshold calculation "
   ]
  },
  {
   "cell_type": "code",
   "execution_count": null,
   "metadata": {
    "ExecuteTime": {
     "end_time": "2020-10-28T14:18:55.913007Z",
     "start_time": "2020-10-28T14:18:55.898014Z"
    }
   },
   "outputs": [],
   "source": [
    "def get_mouse_points(event, x, y, flags, param):\n",
    "\n",
    "    global mouseX, mouseY, mouse_pts\n",
    "    if event == cv2.EVENT_LBUTTONDOWN:\n",
    "        mouseX, mouseY = x, y\n",
    "        cv2.circle(image, (x, y), 10, (0, 255, 255), 10)\n",
    "        if \"mouse_pts\" not in globals():\n",
    "            mouse_pts = []\n",
    "        mouse_pts.append((x, y))\n",
    "        print(\"Point detected\")\n",
    "        print(mouse_pts)"
   ]
  },
  {
   "cell_type": "code",
   "execution_count": null,
   "metadata": {
    "ExecuteTime": {
     "end_time": "2020-10-28T14:18:56.149277Z",
     "start_time": "2020-10-28T14:18:56.130274Z"
    }
   },
   "outputs": [],
   "source": [
    "def get_mouse_points_ped(event, x, y, flags, param):\n",
    "\n",
    "    global mouseX, mouseY, mouse_pts_ped\n",
    "    if event == cv2.EVENT_LBUTTONDOWN:\n",
    "        mouseX, mouseY = x, y\n",
    "        cv2.circle(img_ped, (x, y), 10, (0, 255, 0), 10)\n",
    "        if \"mouse_pts_ped\" not in globals():\n",
    "            mouse_pts_ped = []\n",
    "        mouse_pts_ped.append((x, y))\n",
    "        print(\"Point detected\")\n",
    "        print(mouse_pts_ped)"
   ]
  },
  {
   "cell_type": "markdown",
   "metadata": {},
   "source": [
    "## Drawing points"
   ]
  },
  {
   "cell_type": "code",
   "execution_count": null,
   "metadata": {
    "ExecuteTime": {
     "end_time": "2020-10-28T14:19:51.492689Z",
     "start_time": "2020-10-28T14:19:51.464684Z"
    }
   },
   "outputs": [],
   "source": [
    "img = cv2.imread(\"images/baseImg.PNG\")\n",
    "height = int(cv2.CAP_PROP_FRAME_HEIGHT)\n",
    "width = int(cv2.CAP_PROP_FRAME_WIDTH)"
   ]
  },
  {
   "cell_type": "code",
   "execution_count": null,
   "metadata": {
    "ExecuteTime": {
     "end_time": "2020-10-28T14:19:53.076203Z",
     "start_time": "2020-10-28T14:19:53.053204Z"
    }
   },
   "outputs": [],
   "source": [
    "flag = 1\n",
    "\n",
    "def test():\n",
    "    \n",
    "    def get_mouse_points(event, x, y, flags, param):\n",
    "\n",
    "        global mouseX, mouseY, mouse_pts\n",
    "        if event == cv2.EVENT_LBUTTONDOWN:\n",
    "            mouseX, mouseY = x, y\n",
    "            cv2.circle(image, (x, y), 10, (0, 255, 255), 10)\n",
    "            if \"mouse_pts\" not in globals():\n",
    "                mouse_pts = []\n",
    "            mouse_pts.append((x, y))\n",
    "            print(\"Point detected\")\n",
    "            print(mouse_pts)\n",
    "    \n",
    "    mouse_pts = []\n",
    "    cv2.namedWindow(\"image\")\n",
    "    cv2.setMouseCallback(\"image\", get_mouse_points)\n",
    "    num_mouse_points = 0\n",
    "    while True:\n",
    "        image = img\n",
    "        cv2.imshow(\"image\", image)\n",
    "        cv2.waitKey(1)\n",
    "        if len(mouse_pts) == 6:\n",
    "            cv2.destroyWindow(\"image\")\n",
    "        break\n",
    "    four_points = mouse_pts\n",
    "    \n",
    "    return four_points"
   ]
  },
  {
   "cell_type": "code",
   "execution_count": null,
   "metadata": {
    "ExecuteTime": {
     "end_time": "2020-10-28T14:19:53.774833Z",
     "start_time": "2020-10-28T14:19:53.733739Z"
    }
   },
   "outputs": [],
   "source": [
    "test()"
   ]
  },
  {
   "cell_type": "code",
   "execution_count": null,
   "metadata": {
    "ExecuteTime": {
     "end_time": "2020-09-29T10:35:40.853448Z",
     "start_time": "2020-09-29T10:35:40.783977Z"
    }
   },
   "outputs": [],
   "source": [
    "img_ped = cv2.imread(\"images/baseImg.PNG\")"
   ]
  },
  {
   "cell_type": "code",
   "execution_count": null,
   "metadata": {
    "ExecuteTime": {
     "end_time": "2020-09-29T10:35:49.264892Z",
     "start_time": "2020-09-29T10:35:42.024309Z"
    }
   },
   "outputs": [],
   "source": [
    "mouse_pts_ped = []\n",
    "cv2.namedWindow(\"ped\")\n",
    "cv2.setMouseCallback(\"ped\", get_mouse_points_ped)\n",
    "num_mouse_points_ped = 0\n",
    "while True:\n",
    "    cv2.imshow(\"ped\", img_ped)\n",
    "    cv2.waitKey(1)\n",
    "    if len(mouse_pts_ped) == 5:\n",
    "        cv2.destroyWindow(\"ped\")\n",
    "        break\n",
    "ped_box = mouse_pts_ped"
   ]
  },
  {
   "cell_type": "code",
   "execution_count": null,
   "metadata": {
    "ExecuteTime": {
     "end_time": "2020-09-29T10:48:15.496375Z",
     "start_time": "2020-09-29T10:48:15.482258Z"
    }
   },
   "outputs": [],
   "source": [
    "def get_camera_perspective(img, src_points):\n",
    "    IMAGE_H = img.shape[0]\n",
    "    IMAGE_W = img.shape[1]\n",
    "    src = np.float32(np.array(src_points))\n",
    "    dst = np.float32([[0, IMAGE_H], [IMAGE_W, IMAGE_H], [0, 0], [IMAGE_W, 0]])\n",
    "\n",
    "    M = cv2.getPerspectiveTransform(src, dst)\n",
    "    M_inv = cv2.getPerspectiveTransform(dst, src)\n",
    "\n",
    "    return M, M_inv"
   ]
  },
  {
   "cell_type": "code",
   "execution_count": null,
   "metadata": {
    "ExecuteTime": {
     "end_time": "2020-09-29T10:48:16.171434Z",
     "start_time": "2020-09-29T10:48:16.153483Z"
    }
   },
   "outputs": [],
   "source": [
    "frame = img\n",
    "M, Minv = get_camera_perspective(frame, four_points[0:4])\n",
    "\n",
    "frame_h = frame.shape[0]\n",
    "frame_w = frame.shape[1]\n",
    "\n",
    "scale_w = 1.2 / 2\n",
    "scale_h = 4 / 2"
   ]
  },
  {
   "cell_type": "code",
   "execution_count": null,
   "metadata": {
    "ExecuteTime": {
     "end_time": "2020-09-29T10:48:16.812722Z",
     "start_time": "2020-09-29T10:48:16.791778Z"
    }
   },
   "outputs": [],
   "source": [
    "pts = src = np.float32(np.array([four_points[4:]]))\n",
    "warped_pt = cv2.perspectiveTransform(pts, M)[0]\n",
    "d_thresh = np.sqrt((warped_pt[0][0] - warped_pt[1][0]) ** 2 + (warped_pt[0][1] - warped_pt[1][1]) ** 2)\n",
    "bird_image = np.zeros((int(frame_h * scale_h), int(frame_w * scale_w), 3), np.uint8)\n",
    "\n",
    "bird_image[:] = (0, 0, 0) #black image"
   ]
  },
  {
   "cell_type": "code",
   "execution_count": null,
   "metadata": {
    "ExecuteTime": {
     "end_time": "2020-09-29T10:48:17.506511Z",
     "start_time": "2020-09-29T10:48:17.490520Z"
    }
   },
   "outputs": [],
   "source": [
    "# draw polygon of ROI\n",
    "pts = np.array([four_points[0], four_points[1], four_points[3], four_points[2]], np.int32)\n",
    "cv2.polylines(frame, [pts], True, (0, 255, 255), thickness=4)"
   ]
  },
  {
   "cell_type": "code",
   "execution_count": null,
   "metadata": {
    "ExecuteTime": {
     "end_time": "2020-09-29T11:01:59.783536Z",
     "start_time": "2020-09-29T11:01:59.740653Z"
    }
   },
   "outputs": [],
   "source": [
    "def plot_points_on_bird_eye_view(frame, pedestrian_boxes, M, scale_w, scale_h):\n",
    "    frame_h = frame.shape[0]\n",
    "    frame_w = frame.shape[1]\n",
    "\n",
    "    node_radius = 10\n",
    "    color_node = (192, 133, 156)\n",
    "    thickness_node = 20\n",
    "    solid_back_color = (41, 41, 41)\n",
    "\n",
    "    blank_image = np.zeros(\n",
    "        (int(frame_h * scale_h), int(frame_w * scale_w), 3), np.uint8\n",
    "    )\n",
    "    blank_image[:] = (41, 41, 41)\n",
    "    warped_pts = []\n",
    "    for i in range(len(pedestrian_boxes)):\n",
    "        \"\"\"\n",
    "        mid_point_x = int(\n",
    "            (pedestrian_boxes[i][1] * frame_w + pedestrian_boxes[i][3] * frame_w) / 2\n",
    "        )\n",
    "        mid_point_y = int(\n",
    "            (pedestrian_boxes[i][0] * frame_h + pedestrian_boxes[i][2] * frame_h) / 2\n",
    "        )\n",
    "        \"\"\"\n",
    "        mid_point_x = int(pedestrian_boxes[i][0] * frame_w)\n",
    "        mid_point_y = int(pedestrian_boxes[i][1] * frame_h)\n",
    "\n",
    "        pts = np.array([[[mid_point_x, mid_point_y]]], dtype=\"float32\")\n",
    "        warped_pt = cv2.perspectiveTransform(pts, M)[0][0]\n",
    "        warped_pt_scaled = [int(warped_pt[0] * scale_w), int(warped_pt[1] * scale_h)]\n",
    "\n",
    "        warped_pts.append(warped_pt_scaled)\n",
    "        bird_image = cv2.circle(\n",
    "            blank_image,\n",
    "            (warped_pt_scaled[0], warped_pt_scaled[1]),\n",
    "            node_radius,\n",
    "            color_node,\n",
    "            thickness_node,\n",
    "        )\n",
    "\n",
    "    return warped_pts, bird_image"
   ]
  },
  {
   "cell_type": "code",
   "execution_count": null,
   "metadata": {
    "ExecuteTime": {
     "end_time": "2020-09-29T10:52:40.830926Z",
     "start_time": "2020-09-29T10:52:40.756126Z"
    }
   },
   "outputs": [],
   "source": [
    "frame_img = cv2.imread(\"images/baseImg.PNG\")"
   ]
  },
  {
   "cell_type": "code",
   "execution_count": null,
   "metadata": {
    "ExecuteTime": {
     "end_time": "2020-09-29T10:52:41.442292Z",
     "start_time": "2020-09-29T10:52:41.425340Z"
    }
   },
   "outputs": [],
   "source": [
    "w_pts, bird = plot_points_on_bird_eye_view(frame_img, ped_box, M, scale_w, scale_h)"
   ]
  },
  {
   "cell_type": "code",
   "execution_count": null,
   "metadata": {
    "ExecuteTime": {
     "end_time": "2020-09-29T10:52:47.865106Z",
     "start_time": "2020-09-29T10:52:42.737337Z"
    }
   },
   "outputs": [],
   "source": [
    "cv2.imshow(\"bird\", bird)\n",
    "cv2.waitKey(5000)\n",
    "cv2.destroyWindow(\"bird\")"
   ]
  },
  {
   "cell_type": "code",
   "execution_count": null,
   "metadata": {
    "ExecuteTime": {
     "end_time": "2020-09-29T10:52:55.308356Z",
     "start_time": "2020-09-29T10:52:55.287385Z"
    }
   },
   "outputs": [],
   "source": [
    "for i in range(0, len(ped_box)):\n",
    "    print(i, \" : \")\n",
    "    print(\"x = \", ped_box[i][0], \", y = \", ped_box[i][1])"
   ]
  },
  {
   "cell_type": "code",
   "execution_count": null,
   "metadata": {
    "ExecuteTime": {
     "end_time": "2020-09-29T10:52:56.774239Z",
     "start_time": "2020-09-29T10:52:56.754296Z"
    }
   },
   "outputs": [],
   "source": [
    "w_pts"
   ]
  },
  {
   "cell_type": "code",
   "execution_count": null,
   "metadata": {
    "ExecuteTime": {
     "end_time": "2020-09-29T11:00:17.815283Z",
     "start_time": "2020-09-29T11:00:17.788789Z"
    }
   },
   "outputs": [],
   "source": [
    "frame_h = frame_img.shape[0]\n",
    "frame_w = frame_img.shape[1]\n",
    "\n",
    "node_radius = 30\n",
    "color_node = (192, 133, 156)\n",
    "thickness_node = 20\n",
    "solid_back_color = (41, 41, 41)\n",
    "\n",
    "blank_image = np.zeros((int(frame_h * scale_h), int(frame_w * scale_w), 3), np.uint8)\n",
    "blank_image[:] = (0, 0, 0)\n",
    "\n",
    "for i in range(len(w_pts)):\n",
    "    bird_image = cv2.circle(\n",
    "                blank_image,\n",
    "                (w_pts[i][0], w_pts[i][1]),\n",
    "                node_radius,\n",
    "                color_node,\n",
    "                thickness_node,\n",
    "            )\n"
   ]
  },
  {
   "cell_type": "code",
   "execution_count": null,
   "metadata": {
    "ExecuteTime": {
     "end_time": "2020-09-29T11:01:59.280580Z",
     "start_time": "2020-09-29T11:00:19.157831Z"
    }
   },
   "outputs": [],
   "source": [
    "cv2.imshow(\"bird_test\", bird_image)\n",
    "cv2.waitKey(100000)\n",
    "cv2.destroyWindow(\"bird_test\")"
   ]
  },
  {
   "cell_type": "code",
   "execution_count": null,
   "metadata": {
    "ExecuteTime": {
     "end_time": "2020-09-29T11:06:49.938978Z",
     "start_time": "2020-09-29T11:06:49.210379Z"
    }
   },
   "outputs": [],
   "source": [
    "result = cv2.warpPerspective(frame_img, M, (int(frame_h * scale_h), int(frame_w * scale_w)))"
   ]
  },
  {
   "cell_type": "code",
   "execution_count": null,
   "metadata": {
    "ExecuteTime": {
     "end_time": "2020-09-29T11:07:26.970431Z",
     "start_time": "2020-09-29T11:07:16.469645Z"
    }
   },
   "outputs": [],
   "source": [
    "cv2.imshow(\"warp\", result)\n",
    "cv2.waitKey(10000)\n",
    "cv2.destroyWindow(\"warp\")"
   ]
  },
  {
   "cell_type": "code",
   "execution_count": null,
   "metadata": {
    "ExecuteTime": {
     "end_time": "2020-09-29T11:10:03.654777Z",
     "start_time": "2020-09-29T11:10:03.643810Z"
    }
   },
   "outputs": [],
   "source": [
    "node_radius = int(d_thresh)\n",
    "color_node = (192, 133, 156)\n",
    "thickness_node = 10\n",
    "solid_back_color = (41, 41, 41)\n",
    "\n",
    "for i in range(len(w_pts)):\n",
    "    r_img = cv2.circle(\n",
    "                result,\n",
    "                (w_pts[i][0], w_pts[i][1]),\n",
    "                node_radius,\n",
    "                color_node,\n",
    "                thickness_node,\n",
    "            )"
   ]
  },
  {
   "cell_type": "code",
   "execution_count": null,
   "metadata": {
    "ExecuteTime": {
     "end_time": "2020-09-29T11:10:14.931188Z",
     "start_time": "2020-09-29T11:10:04.570703Z"
    }
   },
   "outputs": [],
   "source": [
    "cv2.imshow(\"R_warp\", r_img)\n",
    "cv2.waitKey(10000)\n",
    "cv2.destroyWindow(\"R_warp\")"
   ]
  },
  {
   "cell_type": "code",
   "execution_count": null,
   "metadata": {
    "ExecuteTime": {
     "end_time": "2020-09-29T11:11:43.508490Z",
     "start_time": "2020-09-29T11:11:43.496524Z"
    }
   },
   "outputs": [],
   "source": [
    "f_img = cv2.circle(\n",
    "                result,\n",
    "                (100, 100),\n",
    "                node_radius,\n",
    "                color_node,\n",
    "                thickness_node,\n",
    "            )"
   ]
  },
  {
   "cell_type": "code",
   "execution_count": null,
   "metadata": {
    "ExecuteTime": {
     "end_time": "2020-09-29T11:11:54.169338Z",
     "start_time": "2020-09-29T11:11:44.060019Z"
    }
   },
   "outputs": [],
   "source": [
    "cv2.imshow(\"R_warp\", f_img)\n",
    "cv2.waitKey(10000)\n",
    "cv2.destroyWindow(\"R_warp\")"
   ]
  },
  {
   "cell_type": "code",
   "execution_count": null,
   "metadata": {},
   "outputs": [],
   "source": []
  }
 ],
 "metadata": {
  "hide_input": false,
  "kernelspec": {
   "display_name": "Python 3",
   "language": "python",
   "name": "python3"
  },
  "language_info": {
   "codemirror_mode": {
    "name": "ipython",
    "version": 3
   },
   "file_extension": ".py",
   "mimetype": "text/x-python",
   "name": "python",
   "nbconvert_exporter": "python",
   "pygments_lexer": "ipython3",
   "version": "3.5.6"
  },
  "nbTranslate": {
   "displayLangs": [
    "*"
   ],
   "hotkey": "alt-t",
   "langInMainMenu": true,
   "sourceLang": "en",
   "targetLang": "fr",
   "useGoogleTranslate": true
  },
  "toc": {
   "base_numbering": 1,
   "nav_menu": {},
   "number_sections": true,
   "sideBar": true,
   "skip_h1_title": false,
   "title_cell": "Table of Contents",
   "title_sidebar": "Contents",
   "toc_cell": false,
   "toc_position": {},
   "toc_section_display": true,
   "toc_window_display": false
  },
  "varInspector": {
   "cols": {
    "lenName": 16,
    "lenType": 16,
    "lenVar": 40
   },
   "kernels_config": {
    "python": {
     "delete_cmd_postfix": "",
     "delete_cmd_prefix": "del ",
     "library": "var_list.py",
     "varRefreshCmd": "print(var_dic_list())"
    },
    "r": {
     "delete_cmd_postfix": ") ",
     "delete_cmd_prefix": "rm(",
     "library": "var_list.r",
     "varRefreshCmd": "cat(var_dic_list()) "
    }
   },
   "types_to_exclude": [
    "module",
    "function",
    "builtin_function_or_method",
    "instance",
    "_Feature"
   ],
   "window_display": false
  }
 },
 "nbformat": 4,
 "nbformat_minor": 4
}
