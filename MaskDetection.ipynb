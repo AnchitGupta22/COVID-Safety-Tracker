{
 "cells": [
  {
   "cell_type": "markdown",
   "metadata": {},
   "source": [
    "IMPORTING LIBRARIES"
   ]
  },
  {
   "cell_type": "code",
   "execution_count": 1,
   "metadata": {},
   "outputs": [
    {
     "name": "stderr",
     "output_type": "stream",
     "text": [
      "C:\\Users\\DELL\\Anaconda3\\envs\\test\\lib\\site-packages\\tensorflow\\python\\framework\\dtypes.py:517: FutureWarning: Passing (type, 1) or '1type' as a synonym of type is deprecated; in a future version of numpy, it will be understood as (type, (1,)) / '(1,)type'.\n",
      "  _np_qint8 = np.dtype([(\"qint8\", np.int8, 1)])\n",
      "C:\\Users\\DELL\\Anaconda3\\envs\\test\\lib\\site-packages\\tensorflow\\python\\framework\\dtypes.py:518: FutureWarning: Passing (type, 1) or '1type' as a synonym of type is deprecated; in a future version of numpy, it will be understood as (type, (1,)) / '(1,)type'.\n",
      "  _np_quint8 = np.dtype([(\"quint8\", np.uint8, 1)])\n",
      "C:\\Users\\DELL\\Anaconda3\\envs\\test\\lib\\site-packages\\tensorflow\\python\\framework\\dtypes.py:519: FutureWarning: Passing (type, 1) or '1type' as a synonym of type is deprecated; in a future version of numpy, it will be understood as (type, (1,)) / '(1,)type'.\n",
      "  _np_qint16 = np.dtype([(\"qint16\", np.int16, 1)])\n",
      "C:\\Users\\DELL\\Anaconda3\\envs\\test\\lib\\site-packages\\tensorflow\\python\\framework\\dtypes.py:520: FutureWarning: Passing (type, 1) or '1type' as a synonym of type is deprecated; in a future version of numpy, it will be understood as (type, (1,)) / '(1,)type'.\n",
      "  _np_quint16 = np.dtype([(\"quint16\", np.uint16, 1)])\n",
      "C:\\Users\\DELL\\Anaconda3\\envs\\test\\lib\\site-packages\\tensorflow\\python\\framework\\dtypes.py:521: FutureWarning: Passing (type, 1) or '1type' as a synonym of type is deprecated; in a future version of numpy, it will be understood as (type, (1,)) / '(1,)type'.\n",
      "  _np_qint32 = np.dtype([(\"qint32\", np.int32, 1)])\n",
      "C:\\Users\\DELL\\Anaconda3\\envs\\test\\lib\\site-packages\\tensorflow\\python\\framework\\dtypes.py:526: FutureWarning: Passing (type, 1) or '1type' as a synonym of type is deprecated; in a future version of numpy, it will be understood as (type, (1,)) / '(1,)type'.\n",
      "  np_resource = np.dtype([(\"resource\", np.ubyte, 1)])\n"
     ]
    }
   ],
   "source": [
    "import tensorflow as tf"
   ]
  },
  {
   "cell_type": "code",
   "execution_count": 2,
   "metadata": {},
   "outputs": [
    {
     "name": "stderr",
     "output_type": "stream",
     "text": [
      "Using TensorFlow backend.\n"
     ]
    }
   ],
   "source": [
    "from keras.models import Sequential\n",
    "from keras.layers import Dense,Convolution2D,MaxPooling2D,Flatten,Dropout\n",
    "from keras.optimizers import Adam"
   ]
  },
  {
   "cell_type": "markdown",
   "metadata": {},
   "source": [
    "# PART-1 Building the CNN"
   ]
  },
  {
   "cell_type": "code",
   "execution_count": 3,
   "metadata": {
    "collapsed": true
   },
   "outputs": [],
   "source": [
    "#Initializing the CNN.\n",
    "classifier= Sequential()"
   ]
  },
  {
   "cell_type": "code",
   "execution_count": 4,
   "metadata": {},
   "outputs": [],
   "source": [
    "#Step-1 Convolution+ Pooling layer\n",
    "classifier.add(Convolution2D(32,(3,3),input_shape=(48,48,3), activation='relu'))   #32 feature maps\n",
    "classifier.add(MaxPooling2D(pool_size=(2,2)))"
   ]
  },
  {
   "cell_type": "code",
   "execution_count": 5,
   "metadata": {},
   "outputs": [],
   "source": [
    "#Adding a second convolution layer+ pooling layer\n",
    "classifier.add(Convolution2D(32,(3,3),activation='relu'))\n",
    "classifier.add(MaxPooling2D(pool_size=(2,2)))"
   ]
  },
  {
   "cell_type": "code",
   "execution_count": 6,
   "metadata": {},
   "outputs": [],
   "source": [
    "#Step-3 Flattening\n",
    "classifier.add(Flatten())\n",
    "classifier.add(Dropout(0.5))"
   ]
  },
  {
   "cell_type": "code",
   "execution_count": 7,
   "metadata": {},
   "outputs": [
    {
     "name": "stderr",
     "output_type": "stream",
     "text": [
      "C:\\Users\\DELL\\Anaconda3\\envs\\test\\lib\\site-packages\\ipykernel\\__main__.py:2: UserWarning: Update your `Dense` call to the Keras 2 API: `Dense(activation=\"relu\", units=50)`\n",
      "  from ipykernel import kernelapp as app\n"
     ]
    }
   ],
   "source": [
    "#Step-4 Full Connection\n",
    "classifier.add(Dense(output_dim = 50,activation = 'relu'))\n"
   ]
  },
  {
   "cell_type": "code",
   "execution_count": 8,
   "metadata": {
    "collapsed": true
   },
   "outputs": [],
   "source": [
    "#Output layer\n",
    "classifier.add(Dense(1,activation='sigmoid'))"
   ]
  },
  {
   "cell_type": "code",
   "execution_count": 9,
   "metadata": {
    "collapsed": true
   },
   "outputs": [],
   "source": [
    "#compiling the CNN\n",
    "#We are using Adaptive Moment Estimation Optimizer\n",
    "optimizer=Adam(lr=1e-3)\n",
    "classifier.compile(optimizer=optimizer,loss='binary_crossentropy',metrics=['accuracy'])"
   ]
  },
  {
   "cell_type": "code",
   "execution_count": null,
   "metadata": {
    "collapsed": true
   },
   "outputs": [],
   "source": []
  },
  {
   "cell_type": "markdown",
   "metadata": {},
   "source": [
    "SPLITTING THE DATASET INTO TRAINING AND VALIDATION"
   ]
  },
  {
   "cell_type": "code",
   "execution_count": 10,
   "metadata": {},
   "outputs": [
    {
     "name": "stderr",
     "output_type": "stream",
     "text": [
      "Copying files: 7553 files [03:37, 34.73 files/s]\n"
     ]
    }
   ],
   "source": [
    "import splitfolders\n",
    "splitfolders.ratio(\"data\", output=\"mask\", seed=1337, ratio=(.75,.25),group_prefix=None)"
   ]
  },
  {
   "cell_type": "code",
   "execution_count": null,
   "metadata": {
    "collapsed": true
   },
   "outputs": [],
   "source": []
  },
  {
   "cell_type": "markdown",
   "metadata": {},
   "source": [
    "# Part2- Fitting the CNN to the images"
   ]
  },
  {
   "cell_type": "markdown",
   "metadata": {},
   "source": [
    "The keras deep learning library provides utilities for working with image data. The main API is ImageDataGenerator class that combines data loading, preparation and augmentation."
   ]
  },
  {
   "cell_type": "code",
   "execution_count": 11,
   "metadata": {
    "collapsed": true
   },
   "outputs": [],
   "source": [
    "#Image Augmentation\n",
    "from keras.preprocessing.image import ImageDataGenerator\n",
    "\n",
    "#Applying these transformations on each training image as it is passed to the model\n",
    "train_datagen = ImageDataGenerator(\n",
    "        rescale=1./255,\n",
    "        shear_range=0.2,\n",
    "        zoom_range=0.2,\n",
    "        horizontal_flip=True)\n",
    "\n"
   ]
  },
  {
   "cell_type": "code",
   "execution_count": 12,
   "metadata": {},
   "outputs": [
    {
     "name": "stdout",
     "output_type": "stream",
     "text": [
      "Found 5664 images belonging to 2 classes.\n"
     ]
    }
   ],
   "source": [
    "#flow_from_directory() method identifies the classes from the folder name\n",
    "training_set = train_datagen.flow_from_directory('mask_dataset/train',\n",
    "                                                 target_size=(48, 48),\n",
    "                                                 batch_size=32,\n",
    "                                                 class_mode='binary')"
   ]
  },
  {
   "cell_type": "code",
   "execution_count": 13,
   "metadata": {},
   "outputs": [
    {
     "name": "stdout",
     "output_type": "stream",
     "text": [
      "Found 1889 images belonging to 2 classes.\n"
     ]
    }
   ],
   "source": [
    "test_datagen = ImageDataGenerator(rescale=1./255)\n",
    "test_set = test_datagen.flow_from_directory( 'mask_dataset/val',\n",
    "        target_size=(48,48),\n",
    "        batch_size=32,\n",
    "        class_mode='binary')\n"
   ]
  },
  {
   "cell_type": "code",
   "execution_count": 14,
   "metadata": {},
   "outputs": [
    {
     "name": "stdout",
     "output_type": "stream",
     "text": [
      "Epoch 1/15\n",
      "168/177 [===========================>..] - ETA: 5s - loss: 0.4046 - acc: 0.8086"
     ]
    },
    {
     "name": "stderr",
     "output_type": "stream",
     "text": [
      "C:\\Users\\DELL\\Anaconda3\\envs\\test\\lib\\site-packages\\PIL\\Image.py:960: UserWarning: Palette images with Transparency expressed in bytes should be converted to RGBA images\n",
      "  \"Palette images with Transparency expressed in bytes should be \"\n"
     ]
    },
    {
     "name": "stdout",
     "output_type": "stream",
     "text": [
      "177/177 [==============================] - 139s 788ms/step - loss: 0.3970 - acc: 0.8143 - val_loss: 0.2574 - val_acc: 0.8962\n",
      "\n",
      "Epoch 00001: val_acc improved from -inf to 0.89624, saving model to weights.h5\n",
      "Epoch 2/15\n",
      "177/177 [==============================] - 29s 162ms/step - loss: 0.2906 - acc: 0.8817 - val_loss: 0.2336 - val_acc: 0.9058\n",
      "\n",
      "Epoch 00002: val_acc improved from 0.89624 to 0.90577, saving model to weights.h5\n",
      "Epoch 3/15\n",
      "177/177 [==============================] - 28s 161ms/step - loss: 0.2527 - acc: 0.9017 - val_loss: 0.1996 - val_acc: 0.9127\n",
      "\n",
      "Epoch 00003: val_acc improved from 0.90577 to 0.91265, saving model to weights.h5\n",
      "Epoch 4/15\n",
      "177/177 [==============================] - 29s 164ms/step - loss: 0.2299 - acc: 0.9105 - val_loss: 0.1917 - val_acc: 0.9222\n",
      "\n",
      "Epoch 00004: val_acc improved from 0.91265 to 0.92218, saving model to weights.h5\n",
      "Epoch 5/15\n",
      "177/177 [==============================] - 29s 163ms/step - loss: 0.2088 - acc: 0.9158 - val_loss: 0.1733 - val_acc: 0.9285\n",
      "\n",
      "Epoch 00005: val_acc improved from 0.92218 to 0.92853, saving model to weights.h5\n",
      "Epoch 6/15\n",
      "177/177 [==============================] - 29s 164ms/step - loss: 0.1897 - acc: 0.9221 - val_loss: 0.1843 - val_acc: 0.9333\n",
      "\n",
      "Epoch 00006: val_acc improved from 0.92853 to 0.93330, saving model to weights.h5\n",
      "Epoch 7/15\n",
      "177/177 [==============================] - 29s 161ms/step - loss: 0.1832 - acc: 0.9278 - val_loss: 0.1743 - val_acc: 0.9375\n",
      "\n",
      "Epoch 00007: val_acc improved from 0.93330 to 0.93753, saving model to weights.h5\n",
      "Epoch 8/15\n",
      "177/177 [==============================] - 29s 164ms/step - loss: 0.1644 - acc: 0.9352 - val_loss: 0.1412 - val_acc: 0.9481\n",
      "\n",
      "Epoch 00008: val_acc improved from 0.93753 to 0.94812, saving model to weights.h5\n",
      "Epoch 9/15\n",
      "177/177 [==============================] - 29s 164ms/step - loss: 0.1504 - acc: 0.9439 - val_loss: 0.1350 - val_acc: 0.9529\n",
      "\n",
      "Epoch 00009: val_acc improved from 0.94812 to 0.95289, saving model to weights.h5\n",
      "Epoch 10/15\n",
      "177/177 [==============================] - 29s 166ms/step - loss: 0.1404 - acc: 0.9470 - val_loss: 0.1252 - val_acc: 0.9582\n",
      "\n",
      "Epoch 00010: val_acc improved from 0.95289 to 0.95818, saving model to weights.h5\n",
      "Epoch 11/15\n",
      "177/177 [==============================] - 30s 169ms/step - loss: 0.1417 - acc: 0.9469 - val_loss: 0.1207 - val_acc: 0.9534\n",
      "\n",
      "Epoch 00011: val_acc did not improve from 0.95818\n",
      "Epoch 12/15\n",
      "177/177 [==============================] - 29s 162ms/step - loss: 0.1192 - acc: 0.9569 - val_loss: 0.1116 - val_acc: 0.9619\n",
      "\n",
      "Epoch 00012: val_acc improved from 0.95818 to 0.96188, saving model to weights.h5\n",
      "Epoch 13/15\n",
      "177/177 [==============================] - 31s 176ms/step - loss: 0.1220 - acc: 0.9537 - val_loss: 0.1392 - val_acc: 0.9497\n",
      "\n",
      "Epoch 00013: val_acc did not improve from 0.96188\n",
      "Epoch 14/15\n",
      "177/177 [==============================] - 28s 161ms/step - loss: 0.1169 - acc: 0.9569 - val_loss: 0.1061 - val_acc: 0.9619\n",
      "\n",
      "Epoch 00014: val_acc did not improve from 0.96188\n",
      "Epoch 15/15\n",
      "177/177 [==============================] - 30s 169ms/step - loss: 0.1138 - acc: 0.9580 - val_loss: 0.1193 - val_acc: 0.9624\n",
      "\n",
      "Epoch 00015: val_acc improved from 0.96188 to 0.96241, saving model to weights.h5\n"
     ]
    }
   ],
   "source": [
    "epochs=15\n",
    "from keras.callbacks import ModelCheckpoint\n",
    "\n",
    "#Saving weights\n",
    "checkpoint = ModelCheckpoint(\"weights.h5\", monitor='val_acc', verbose=1, save_best_only=True, mode='max')\n",
    "callbacks_list = [checkpoint]\n",
    "\n",
    "#fit_generator() is used when we have a large dataset or image augmentation is applied\n",
    "hist=classifier.fit_generator(training_set,\n",
    "        epochs=epochs,\n",
    "        validation_data=test_set,\n",
    "        callbacks=callbacks_list)"
   ]
  },
  {
   "cell_type": "code",
   "execution_count": 15,
   "metadata": {},
   "outputs": [
    {
     "name": "stdout",
     "output_type": "stream",
     "text": [
      "_________________________________________________________________\n",
      "Layer (type)                 Output Shape              Param #   \n",
      "=================================================================\n",
      "conv2d_1 (Conv2D)            (None, 46, 46, 32)        896       \n",
      "_________________________________________________________________\n",
      "max_pooling2d_1 (MaxPooling2 (None, 23, 23, 32)        0         \n",
      "_________________________________________________________________\n",
      "conv2d_2 (Conv2D)            (None, 21, 21, 32)        9248      \n",
      "_________________________________________________________________\n",
      "max_pooling2d_2 (MaxPooling2 (None, 10, 10, 32)        0         \n",
      "_________________________________________________________________\n",
      "flatten_1 (Flatten)          (None, 3200)              0         \n",
      "_________________________________________________________________\n",
      "dropout_1 (Dropout)          (None, 3200)              0         \n",
      "_________________________________________________________________\n",
      "dense_1 (Dense)              (None, 50)                160050    \n",
      "_________________________________________________________________\n",
      "dense_2 (Dense)              (None, 1)                 51        \n",
      "=================================================================\n",
      "Total params: 170,245\n",
      "Trainable params: 170,245\n",
      "Non-trainable params: 0\n",
      "_________________________________________________________________\n"
     ]
    }
   ],
   "source": [
    "classifier.summary()"
   ]
  },
  {
   "cell_type": "markdown",
   "metadata": {},
   "source": [
    "# Saving the model"
   ]
  },
  {
   "cell_type": "code",
   "execution_count": 16,
   "metadata": {
    "collapsed": true
   },
   "outputs": [],
   "source": [
    "#Save the model\n",
    "#Serialize model to JSON\n",
    "model_json = classifier.to_json()\n",
    "with open(\"model.json\",\"w\")as json_file:\n",
    "    json_file.write(model_json)\n"
   ]
  },
  {
   "cell_type": "markdown",
   "metadata": {},
   "source": [
    "# PLOTTING ACCURACY AND LOSS GRAPH"
   ]
  },
  {
   "cell_type": "code",
   "execution_count": 17,
   "metadata": {
    "collapsed": true
   },
   "outputs": [],
   "source": [
    "import matplotlib.pyplot as plt\n",
    "# Use Matplotlib in jupyter\n",
    "%matplotlib inline"
   ]
  },
  {
   "cell_type": "code",
   "execution_count": 18,
   "metadata": {},
   "outputs": [
    {
     "data": {
      "image/png": "[encoded data removed]",
      "text/plain": [
       "<Figure size 576x432 with 1 Axes>"
      ]
     },
     "metadata": {
      "needs_background": "light"
     },
     "output_type": "display_data"
    }
   ],
   "source": [
    "train_loss=hist.history['loss']\n",
    "val_loss=hist.history['val_loss']\n",
    "train_acc=hist.history['acc']\n",
    "val_acc=hist.history['val_acc']\n",
    "xc=range(15)\n",
    "\n",
    "plt.figure(1,figsize=(8,6))\n",
    "plt.plot(xc,train_loss)\n",
    "plt.plot(xc,val_loss)\n",
    "plt.xlabel('number of epochs')\n",
    "plt.ylabel('loss')\n",
    "plt.title('train_loss vs val_loss')\n",
    "plt.grid(True)\n",
    "plt.legend(['train','val'],loc=4)\n",
    "plt.style.use(['classic'])\n"
   ]
  },
  {
   "cell_type": "code",
   "execution_count": 19,
   "metadata": {},
   "outputs": [
    {
     "data": {
      "image/png": "[encoded data removed]",
      "text/plain": [
       "<Figure size 640x480 with 1 Axes>"
      ]
     },
     "metadata": {},
     "output_type": "display_data"
    }
   ],
   "source": [
    "plt.figure(2,figsize=(8,6))\n",
    "plt.plot(xc,train_acc)\n",
    "plt.plot(xc,val_acc)\n",
    "plt.xlabel('number of epochs')\n",
    "plt.ylabel('accuracy')\n",
    "plt.title('train_acc vs val_acc')\n",
    "plt.grid(True)\n",
    "plt.legend(['train','val'],loc=4)\n",
    "plt.style.use(['classic'])"
   ]
  },
  {
   "cell_type": "code",
   "execution_count": null,
   "metadata": {
    "collapsed": true
   },
   "outputs": [],
   "source": []
  },
  {
   "cell_type": "markdown",
   "metadata": {},
   "source": [
    "# Making a single prediction"
   ]
  },
  {
   "cell_type": "code",
   "execution_count": 20,
   "metadata": {},
   "outputs": [],
   "source": [
    "import numpy as np\n",
    "from keras.preprocessing import image\n",
    "\n",
    "#load_img() function is used for loading an image from file as a Python Imaging Library or PIL image object\n",
    "test_image=image.load_img('final_pred/index.jpg',target_size=(48,48))\n",
    "\n",
    "#the img_to_array() function is used for converting a loaded image in PIL format into a NumPy array\n",
    "test_image=image.img_to_array(test_image)\n",
    "\n",
    "#The predict method of the classifier expect 4 dimensions so we will add it using expand_dims() and the 4th dim is the batch\n",
    "test_image=np.expand_dims(test_image,axis=0)\n",
    "#axis specify the position where we want to add the dimension\n",
    "\n",
    "result=classifier.predict(test_image)"
   ]
  },
  {
   "cell_type": "code",
   "execution_count": 21,
   "metadata": {},
   "outputs": [
    {
     "data": {
      "text/plain": [
       "{'with_mask': 0, 'without_mask': 1}"
      ]
     },
     "execution_count": 21,
     "metadata": {},
     "output_type": "execute_result"
    }
   ],
   "source": [
    "#for mapping\n",
    "training_set.class_indices"
   ]
  },
  {
   "cell_type": "code",
   "execution_count": 22,
   "metadata": {
    "collapsed": true
   },
   "outputs": [],
   "source": [
    "if result[0][0]==1:\n",
    "    prediction='Without_mask'\n",
    "else:\n",
    "    prediction='with mask'"
   ]
  },
  {
   "cell_type": "code",
   "execution_count": 24,
   "metadata": {},
   "outputs": [
    {
     "name": "stdout",
     "output_type": "stream",
     "text": [
      "with mask\n"
     ]
    }
   ],
   "source": [
    "print(prediction)"
   ]
  },
  {
   "cell_type": "code",
   "execution_count": null,
   "metadata": {
    "collapsed": true
   },
   "outputs": [],
   "source": []
  }
 ],
 "metadata": {
  "anaconda-cloud": {},
  "kernelspec": {
   "display_name": "Python 3",
   "language": "python",
   "name": "python3"
  },
  "language_info": {
   "codemirror_mode": {
    "name": "ipython",
    "version": 3
   },
   "file_extension": ".py",
   "mimetype": "text/x-python",
   "name": "python",
   "nbconvert_exporter": "python",
   "pygments_lexer": "ipython3",
   "version": "3.8.5"
  }
 },
 "nbformat": 4,
 "nbformat_minor": 1
}
